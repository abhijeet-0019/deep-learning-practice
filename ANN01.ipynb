{
  "nbformat": 4,
  "nbformat_minor": 0,
  "metadata": {
    "colab": {
      "provenance": [],
      "collapsed_sections": [],
      "authorship_tag": "ABX9TyN4faEwfQGK7iANR1BBxjLM",
      "include_colab_link": true
    },
    "kernelspec": {
      "name": "python3",
      "display_name": "Python 3"
    },
    "language_info": {
      "name": "python"
    }
  },
  "cells": [
    {
      "cell_type": "markdown",
      "metadata": {
        "id": "view-in-github",
        "colab_type": "text"
      },
      "source": [
        "<a href=\"https://colab.research.google.com/github/abhijeet-0019/deep-learning-practice/blob/main/ANN01.ipynb\" target=\"_parent\"><img src=\"https://colab.research.google.com/assets/colab-badge.svg\" alt=\"Open In Colab\"/></a>"
      ]
    },
    {
      "cell_type": "code",
      "execution_count": null,
      "metadata": {
        "id": "zxKiBNmiGHV1"
      },
      "outputs": [],
      "source": [
        "import numpy as np\n",
        "import matplotlib.pyplot as plt\n",
        "import pandas as pd"
      ]
    },
    {
      "cell_type": "code",
      "source": [
        "dataset = pd.read_csv('https://raw.githubusercontent.com/abhijeet-0019/deep-learning-practice/main/DeepLearningUdemy/DataSet_CSV.csv')"
      ],
      "metadata": {
        "id": "qaAbTsulGqrv"
      },
      "execution_count": null,
      "outputs": []
    },
    {
      "cell_type": "code",
      "source": [
        "dataset"
      ],
      "metadata": {
        "colab": {
          "base_uri": "https://localhost:8080/",
          "height": 488
        },
        "id": "vZ0GIZuiIBbh",
        "outputId": "237eb0f4-a13f-42c6-e12d-622030072e17"
      },
      "execution_count": null,
      "outputs": [
        {
          "output_type": "execute_result",
          "data": {
            "text/plain": [
              "      RowNumber  CustomerId    Surname  CreditScore Geography  Gender  Age  \\\n",
              "0             1    15634602   Hargrave          619    France  Female   42   \n",
              "1             2    15647311       Hill          608     Spain  Female   41   \n",
              "2             3    15619304       Onio          502    France  Female   42   \n",
              "3             4    15701354       Boni          699    France  Female   39   \n",
              "4             5    15737888   Mitchell          850     Spain  Female   43   \n",
              "...         ...         ...        ...          ...       ...     ...  ...   \n",
              "9995       9996    15606229   Obijiaku          771    France    Male   39   \n",
              "9996       9997    15569892  Johnstone          516    France    Male   35   \n",
              "9997       9998    15584532        Liu          709    France  Female   36   \n",
              "9998       9999    15682355  Sabbatini          772   Germany    Male   42   \n",
              "9999      10000    15628319     Walker          792    France  Female   28   \n",
              "\n",
              "      Tenure    Balance  NumOfProducts  HasCrCard  IsActiveMember  \\\n",
              "0          2       0.00              1          1               1   \n",
              "1          1   83807.86              1          0               1   \n",
              "2          8  159660.80              3          1               0   \n",
              "3          1       0.00              2          0               0   \n",
              "4          2  125510.82              1          1               1   \n",
              "...      ...        ...            ...        ...             ...   \n",
              "9995       5       0.00              2          1               0   \n",
              "9996      10   57369.61              1          1               1   \n",
              "9997       7       0.00              1          0               1   \n",
              "9998       3   75075.31              2          1               0   \n",
              "9999       4  130142.79              1          1               0   \n",
              "\n",
              "      EstimatedSalary  Exited  \n",
              "0           101348.88       1  \n",
              "1           112542.58       0  \n",
              "2           113931.57       1  \n",
              "3            93826.63       0  \n",
              "4            79084.10       0  \n",
              "...               ...     ...  \n",
              "9995         96270.64       0  \n",
              "9996        101699.77       0  \n",
              "9997         42085.58       1  \n",
              "9998         92888.52       1  \n",
              "9999         38190.78       0  \n",
              "\n",
              "[10000 rows x 14 columns]"
            ],
            "text/html": [
              "\n",
              "  <div id=\"df-95735645-adec-4074-bab0-edf348e2b838\">\n",
              "    <div class=\"colab-df-container\">\n",
              "      <div>\n",
              "<style scoped>\n",
              "    .dataframe tbody tr th:only-of-type {\n",
              "        vertical-align: middle;\n",
              "    }\n",
              "\n",
              "    .dataframe tbody tr th {\n",
              "        vertical-align: top;\n",
              "    }\n",
              "\n",
              "    .dataframe thead th {\n",
              "        text-align: right;\n",
              "    }\n",
              "</style>\n",
              "<table border=\"1\" class=\"dataframe\">\n",
              "  <thead>\n",
              "    <tr style=\"text-align: right;\">\n",
              "      <th></th>\n",
              "      <th>RowNumber</th>\n",
              "      <th>CustomerId</th>\n",
              "      <th>Surname</th>\n",
              "      <th>CreditScore</th>\n",
              "      <th>Geography</th>\n",
              "      <th>Gender</th>\n",
              "      <th>Age</th>\n",
              "      <th>Tenure</th>\n",
              "      <th>Balance</th>\n",
              "      <th>NumOfProducts</th>\n",
              "      <th>HasCrCard</th>\n",
              "      <th>IsActiveMember</th>\n",
              "      <th>EstimatedSalary</th>\n",
              "      <th>Exited</th>\n",
              "    </tr>\n",
              "  </thead>\n",
              "  <tbody>\n",
              "    <tr>\n",
              "      <th>0</th>\n",
              "      <td>1</td>\n",
              "      <td>15634602</td>\n",
              "      <td>Hargrave</td>\n",
              "      <td>619</td>\n",
              "      <td>France</td>\n",
              "      <td>Female</td>\n",
              "      <td>42</td>\n",
              "      <td>2</td>\n",
              "      <td>0.00</td>\n",
              "      <td>1</td>\n",
              "      <td>1</td>\n",
              "      <td>1</td>\n",
              "      <td>101348.88</td>\n",
              "      <td>1</td>\n",
              "    </tr>\n",
              "    <tr>\n",
              "      <th>1</th>\n",
              "      <td>2</td>\n",
              "      <td>15647311</td>\n",
              "      <td>Hill</td>\n",
              "      <td>608</td>\n",
              "      <td>Spain</td>\n",
              "      <td>Female</td>\n",
              "      <td>41</td>\n",
              "      <td>1</td>\n",
              "      <td>83807.86</td>\n",
              "      <td>1</td>\n",
              "      <td>0</td>\n",
              "      <td>1</td>\n",
              "      <td>112542.58</td>\n",
              "      <td>0</td>\n",
              "    </tr>\n",
              "    <tr>\n",
              "      <th>2</th>\n",
              "      <td>3</td>\n",
              "      <td>15619304</td>\n",
              "      <td>Onio</td>\n",
              "      <td>502</td>\n",
              "      <td>France</td>\n",
              "      <td>Female</td>\n",
              "      <td>42</td>\n",
              "      <td>8</td>\n",
              "      <td>159660.80</td>\n",
              "      <td>3</td>\n",
              "      <td>1</td>\n",
              "      <td>0</td>\n",
              "      <td>113931.57</td>\n",
              "      <td>1</td>\n",
              "    </tr>\n",
              "    <tr>\n",
              "      <th>3</th>\n",
              "      <td>4</td>\n",
              "      <td>15701354</td>\n",
              "      <td>Boni</td>\n",
              "      <td>699</td>\n",
              "      <td>France</td>\n",
              "      <td>Female</td>\n",
              "      <td>39</td>\n",
              "      <td>1</td>\n",
              "      <td>0.00</td>\n",
              "      <td>2</td>\n",
              "      <td>0</td>\n",
              "      <td>0</td>\n",
              "      <td>93826.63</td>\n",
              "      <td>0</td>\n",
              "    </tr>\n",
              "    <tr>\n",
              "      <th>4</th>\n",
              "      <td>5</td>\n",
              "      <td>15737888</td>\n",
              "      <td>Mitchell</td>\n",
              "      <td>850</td>\n",
              "      <td>Spain</td>\n",
              "      <td>Female</td>\n",
              "      <td>43</td>\n",
              "      <td>2</td>\n",
              "      <td>125510.82</td>\n",
              "      <td>1</td>\n",
              "      <td>1</td>\n",
              "      <td>1</td>\n",
              "      <td>79084.10</td>\n",
              "      <td>0</td>\n",
              "    </tr>\n",
              "    <tr>\n",
              "      <th>...</th>\n",
              "      <td>...</td>\n",
              "      <td>...</td>\n",
              "      <td>...</td>\n",
              "      <td>...</td>\n",
              "      <td>...</td>\n",
              "      <td>...</td>\n",
              "      <td>...</td>\n",
              "      <td>...</td>\n",
              "      <td>...</td>\n",
              "      <td>...</td>\n",
              "      <td>...</td>\n",
              "      <td>...</td>\n",
              "      <td>...</td>\n",
              "      <td>...</td>\n",
              "    </tr>\n",
              "    <tr>\n",
              "      <th>9995</th>\n",
              "      <td>9996</td>\n",
              "      <td>15606229</td>\n",
              "      <td>Obijiaku</td>\n",
              "      <td>771</td>\n",
              "      <td>France</td>\n",
              "      <td>Male</td>\n",
              "      <td>39</td>\n",
              "      <td>5</td>\n",
              "      <td>0.00</td>\n",
              "      <td>2</td>\n",
              "      <td>1</td>\n",
              "      <td>0</td>\n",
              "      <td>96270.64</td>\n",
              "      <td>0</td>\n",
              "    </tr>\n",
              "    <tr>\n",
              "      <th>9996</th>\n",
              "      <td>9997</td>\n",
              "      <td>15569892</td>\n",
              "      <td>Johnstone</td>\n",
              "      <td>516</td>\n",
              "      <td>France</td>\n",
              "      <td>Male</td>\n",
              "      <td>35</td>\n",
              "      <td>10</td>\n",
              "      <td>57369.61</td>\n",
              "      <td>1</td>\n",
              "      <td>1</td>\n",
              "      <td>1</td>\n",
              "      <td>101699.77</td>\n",
              "      <td>0</td>\n",
              "    </tr>\n",
              "    <tr>\n",
              "      <th>9997</th>\n",
              "      <td>9998</td>\n",
              "      <td>15584532</td>\n",
              "      <td>Liu</td>\n",
              "      <td>709</td>\n",
              "      <td>France</td>\n",
              "      <td>Female</td>\n",
              "      <td>36</td>\n",
              "      <td>7</td>\n",
              "      <td>0.00</td>\n",
              "      <td>1</td>\n",
              "      <td>0</td>\n",
              "      <td>1</td>\n",
              "      <td>42085.58</td>\n",
              "      <td>1</td>\n",
              "    </tr>\n",
              "    <tr>\n",
              "      <th>9998</th>\n",
              "      <td>9999</td>\n",
              "      <td>15682355</td>\n",
              "      <td>Sabbatini</td>\n",
              "      <td>772</td>\n",
              "      <td>Germany</td>\n",
              "      <td>Male</td>\n",
              "      <td>42</td>\n",
              "      <td>3</td>\n",
              "      <td>75075.31</td>\n",
              "      <td>2</td>\n",
              "      <td>1</td>\n",
              "      <td>0</td>\n",
              "      <td>92888.52</td>\n",
              "      <td>1</td>\n",
              "    </tr>\n",
              "    <tr>\n",
              "      <th>9999</th>\n",
              "      <td>10000</td>\n",
              "      <td>15628319</td>\n",
              "      <td>Walker</td>\n",
              "      <td>792</td>\n",
              "      <td>France</td>\n",
              "      <td>Female</td>\n",
              "      <td>28</td>\n",
              "      <td>4</td>\n",
              "      <td>130142.79</td>\n",
              "      <td>1</td>\n",
              "      <td>1</td>\n",
              "      <td>0</td>\n",
              "      <td>38190.78</td>\n",
              "      <td>0</td>\n",
              "    </tr>\n",
              "  </tbody>\n",
              "</table>\n",
              "<p>10000 rows × 14 columns</p>\n",
              "</div>\n",
              "      <button class=\"colab-df-convert\" onclick=\"convertToInteractive('df-95735645-adec-4074-bab0-edf348e2b838')\"\n",
              "              title=\"Convert this dataframe to an interactive table.\"\n",
              "              style=\"display:none;\">\n",
              "        \n",
              "  <svg xmlns=\"http://www.w3.org/2000/svg\" height=\"24px\"viewBox=\"0 0 24 24\"\n",
              "       width=\"24px\">\n",
              "    <path d=\"M0 0h24v24H0V0z\" fill=\"none\"/>\n",
              "    <path d=\"M18.56 5.44l.94 2.06.94-2.06 2.06-.94-2.06-.94-.94-2.06-.94 2.06-2.06.94zm-11 1L8.5 8.5l.94-2.06 2.06-.94-2.06-.94L8.5 2.5l-.94 2.06-2.06.94zm10 10l.94 2.06.94-2.06 2.06-.94-2.06-.94-.94-2.06-.94 2.06-2.06.94z\"/><path d=\"M17.41 7.96l-1.37-1.37c-.4-.4-.92-.59-1.43-.59-.52 0-1.04.2-1.43.59L10.3 9.45l-7.72 7.72c-.78.78-.78 2.05 0 2.83L4 21.41c.39.39.9.59 1.41.59.51 0 1.02-.2 1.41-.59l7.78-7.78 2.81-2.81c.8-.78.8-2.07 0-2.86zM5.41 20L4 18.59l7.72-7.72 1.47 1.35L5.41 20z\"/>\n",
              "  </svg>\n",
              "      </button>\n",
              "      \n",
              "  <style>\n",
              "    .colab-df-container {\n",
              "      display:flex;\n",
              "      flex-wrap:wrap;\n",
              "      gap: 12px;\n",
              "    }\n",
              "\n",
              "    .colab-df-convert {\n",
              "      background-color: #E8F0FE;\n",
              "      border: none;\n",
              "      border-radius: 50%;\n",
              "      cursor: pointer;\n",
              "      display: none;\n",
              "      fill: #1967D2;\n",
              "      height: 32px;\n",
              "      padding: 0 0 0 0;\n",
              "      width: 32px;\n",
              "    }\n",
              "\n",
              "    .colab-df-convert:hover {\n",
              "      background-color: #E2EBFA;\n",
              "      box-shadow: 0px 1px 2px rgba(60, 64, 67, 0.3), 0px 1px 3px 1px rgba(60, 64, 67, 0.15);\n",
              "      fill: #174EA6;\n",
              "    }\n",
              "\n",
              "    [theme=dark] .colab-df-convert {\n",
              "      background-color: #3B4455;\n",
              "      fill: #D2E3FC;\n",
              "    }\n",
              "\n",
              "    [theme=dark] .colab-df-convert:hover {\n",
              "      background-color: #434B5C;\n",
              "      box-shadow: 0px 1px 3px 1px rgba(0, 0, 0, 0.15);\n",
              "      filter: drop-shadow(0px 1px 2px rgba(0, 0, 0, 0.3));\n",
              "      fill: #FFFFFF;\n",
              "    }\n",
              "  </style>\n",
              "\n",
              "      <script>\n",
              "        const buttonEl =\n",
              "          document.querySelector('#df-95735645-adec-4074-bab0-edf348e2b838 button.colab-df-convert');\n",
              "        buttonEl.style.display =\n",
              "          google.colab.kernel.accessAllowed ? 'block' : 'none';\n",
              "\n",
              "        async function convertToInteractive(key) {\n",
              "          const element = document.querySelector('#df-95735645-adec-4074-bab0-edf348e2b838');\n",
              "          const dataTable =\n",
              "            await google.colab.kernel.invokeFunction('convertToInteractive',\n",
              "                                                     [key], {});\n",
              "          if (!dataTable) return;\n",
              "\n",
              "          const docLinkHtml = 'Like what you see? Visit the ' +\n",
              "            '<a target=\"_blank\" href=https://colab.research.google.com/notebooks/data_table.ipynb>data table notebook</a>'\n",
              "            + ' to learn more about interactive tables.';\n",
              "          element.innerHTML = '';\n",
              "          dataTable['output_type'] = 'display_data';\n",
              "          await google.colab.output.renderOutput(dataTable, element);\n",
              "          const docLink = document.createElement('div');\n",
              "          docLink.innerHTML = docLinkHtml;\n",
              "          element.appendChild(docLink);\n",
              "        }\n",
              "      </script>\n",
              "    </div>\n",
              "  </div>\n",
              "  "
            ]
          },
          "metadata": {},
          "execution_count": 3
        }
      ]
    },
    {
      "cell_type": "code",
      "source": [
        "X = dataset.iloc[:,3:13].values\n",
        "Y = dataset.iloc[:, 13].values"
      ],
      "metadata": {
        "id": "aGtDjNEZw04U"
      },
      "execution_count": null,
      "outputs": []
    },
    {
      "cell_type": "markdown",
      "source": [],
      "metadata": {
        "id": "HjfEJhHuHtTf"
      }
    },
    {
      "cell_type": "markdown",
      "source": [
        "first line of code simply, get all the data from column 3 to 13 in X.\n",
        "second line of code, all the values of column 13 to Y. The iloc() function in python is defined in the Pandas module that helps us to select a specific row or column from the data set."
      ],
      "metadata": {
        "id": "yl7uwdU0xJEv"
      }
    },
    {
      "cell_type": "code",
      "source": [
        "print(X)"
      ],
      "metadata": {
        "colab": {
          "base_uri": "https://localhost:8080/"
        },
        "id": "8GmTRbG_xuZ6",
        "outputId": "9b0b5ab7-d9f6-498e-a987-fdd7ae457517"
      },
      "execution_count": null,
      "outputs": [
        {
          "output_type": "stream",
          "name": "stdout",
          "text": [
            "[[619 'France' 'Female' ... 1 1 101348.88]\n",
            " [608 'Spain' 'Female' ... 0 1 112542.58]\n",
            " [502 'France' 'Female' ... 1 0 113931.57]\n",
            " ...\n",
            " [709 'France' 'Female' ... 0 1 42085.58]\n",
            " [772 'Germany' 'Male' ... 1 0 92888.52]\n",
            " [792 'France' 'Female' ... 1 0 38190.78]]\n"
          ]
        }
      ]
    },
    {
      "cell_type": "code",
      "source": [
        "print(Y)"
      ],
      "metadata": {
        "colab": {
          "base_uri": "https://localhost:8080/"
        },
        "id": "qsj4HUn7ygCA",
        "outputId": "d76f3ef3-41e2-4eaa-d1de-2249f7d74efb"
      },
      "execution_count": null,
      "outputs": [
        {
          "output_type": "stream",
          "name": "stdout",
          "text": [
            "[1 0 1 ... 1 1 0]\n"
          ]
        }
      ]
    },
    {
      "cell_type": "markdown",
      "source": [
        "conversion of gender entries to 0 and 1"
      ],
      "metadata": {
        "id": "rKx_-Dg60MG0"
      }
    },
    {
      "cell_type": "code",
      "source": [
        "from sklearn.preprocessing import LabelEncoder, OneHotEncoder"
      ],
      "metadata": {
        "id": "9SLSy8mo0BAq"
      },
      "execution_count": null,
      "outputs": []
    },
    {
      "cell_type": "code",
      "source": [
        "labelencoder_X_2 = LabelEncoder()"
      ],
      "metadata": {
        "id": "hHGk7OHE0cto"
      },
      "execution_count": null,
      "outputs": []
    },
    {
      "cell_type": "code",
      "source": [
        "X[:, 2] = labelencoder_X_2.fit_transform(X[:, 2])"
      ],
      "metadata": {
        "id": "51nmH55z0lM8"
      },
      "execution_count": null,
      "outputs": []
    },
    {
      "cell_type": "code",
      "source": [
        "print(X)"
      ],
      "metadata": {
        "colab": {
          "base_uri": "https://localhost:8080/"
        },
        "id": "Rg77a3830xAG",
        "outputId": "194303f5-daa8-4288-d96d-c32855229373"
      },
      "execution_count": null,
      "outputs": [
        {
          "output_type": "stream",
          "name": "stdout",
          "text": [
            "[[619 'France' 0 ... 1 1 101348.88]\n",
            " [608 'Spain' 0 ... 0 1 112542.58]\n",
            " [502 'France' 0 ... 1 0 113931.57]\n",
            " ...\n",
            " [709 'France' 0 ... 0 1 42085.58]\n",
            " [772 'Germany' 1 ... 1 0 92888.52]\n",
            " [792 'France' 0 ... 1 0 38190.78]]\n"
          ]
        }
      ]
    },
    {
      "cell_type": "markdown",
      "source": [
        "Now need to perform oneHotEncoding to convert geographical locations to numeric"
      ],
      "metadata": {
        "id": "QQRqflKn063_"
      }
    },
    {
      "cell_type": "code",
      "source": [
        "from sklearn.compose import ColumnTransformer\n",
        "ct = ColumnTransformer([('one', OneHotEncoder(),[1])], remainder='passthrough')"
      ],
      "metadata": {
        "id": "mfyeeWB61BuD"
      },
      "execution_count": null,
      "outputs": []
    },
    {
      "cell_type": "markdown",
      "source": [
        "ColumnTransfromer Arguements: name for the column transformer, Transformer name, we are transforming 1st column, what to do with other columns of he dataset is decided by remainder (either drop or passthrough or perform some other function)"
      ],
      "metadata": {
        "id": "Fag7jmrJ2pqR"
      }
    },
    {
      "cell_type": "code",
      "source": [
        "X = np.array(ct.fit_transform(X), dtype = np.str)"
      ],
      "metadata": {
        "colab": {
          "base_uri": "https://localhost:8080/"
        },
        "id": "h99ynZLj2iPk",
        "outputId": "84fa5566-9a58-4e13-b604-38ddbae74344"
      },
      "execution_count": null,
      "outputs": [
        {
          "output_type": "stream",
          "name": "stderr",
          "text": [
            "/usr/local/lib/python3.7/dist-packages/ipykernel_launcher.py:1: DeprecationWarning: `np.str` is a deprecated alias for the builtin `str`. To silence this warning, use `str` by itself. Doing this will not modify any behavior and is safe. If you specifically wanted the numpy scalar type, use `np.str_` here.\n",
            "Deprecated in NumPy 1.20; for more details and guidance: https://numpy.org/devdocs/release/1.20.0-notes.html#deprecations\n",
            "  \"\"\"Entry point for launching an IPython kernel.\n"
          ]
        }
      ]
    },
    {
      "cell_type": "code",
      "source": [
        "X = X[:, 1:]"
      ],
      "metadata": {
        "id": "QFRULvyN3hlD"
      },
      "execution_count": null,
      "outputs": []
    },
    {
      "cell_type": "code",
      "source": [
        "print(X)"
      ],
      "metadata": {
        "colab": {
          "base_uri": "https://localhost:8080/"
        },
        "id": "xm9qvGyS3n76",
        "outputId": "24e5d19f-5ec5-4f4d-aa41-b8db50fbcc99"
      },
      "execution_count": null,
      "outputs": [
        {
          "output_type": "stream",
          "name": "stdout",
          "text": [
            "[['0.0' '0.0' '619' ... '1' '1' '101348.88']\n",
            " ['0.0' '1.0' '608' ... '0' '1' '112542.58']\n",
            " ['0.0' '0.0' '502' ... '1' '0' '113931.57']\n",
            " ...\n",
            " ['0.0' '0.0' '709' ... '0' '1' '42085.58']\n",
            " ['1.0' '0.0' '772' ... '1' '0' '92888.52']\n",
            " ['0.0' '0.0' '792' ... '1' '0' '38190.78']]\n"
          ]
        }
      ]
    },
    {
      "cell_type": "markdown",
      "source": [
        "Here in the above code, the refreshed two columns together represents the value of geographical location in combination of 0 and 1"
      ],
      "metadata": {
        "id": "xBsjfCdD4ctg"
      }
    },
    {
      "cell_type": "markdown",
      "source": [
        "**Training the Set**\n",
        "training and testing data. "
      ],
      "metadata": {
        "id": "xsChTVSL5CoT"
      }
    },
    {
      "cell_type": "code",
      "source": [
        "from sklearn.model_selection import train_test_split"
      ],
      "metadata": {
        "id": "rSF0ed9L579o"
      },
      "execution_count": null,
      "outputs": []
    },
    {
      "cell_type": "code",
      "source": [
        "X_train, X_test, y_train, y_test = train_test_split(X, Y, test_size = 0.2, random_state = 0)"
      ],
      "metadata": {
        "id": "4Ty0JCtF6DZw"
      },
      "execution_count": null,
      "outputs": []
    },
    {
      "cell_type": "markdown",
      "source": [
        "20 percetent test data, and 80 percent is trining data. random state 0, not to randomly choose rows. "
      ],
      "metadata": {
        "id": "XXb32mmX6bs6"
      }
    },
    {
      "cell_type": "markdown",
      "source": [
        "**FEATURE SCALING**"
      ],
      "metadata": {
        "id": "up__Esb16z56"
      }
    },
    {
      "cell_type": "markdown",
      "source": [
        "Fearure Scaling or Standardization: It is a step of Data Pre Processing that is applied to independent variables or features of data. It basically helps to normalize the data within a particular range. Sometimes, it also helps in speeding up the calculations in an algorithm. Package Used: sklearn.preprocessing"
      ],
      "metadata": {
        "id": "WX9ip9aD7FiD"
      }
    },
    {
      "cell_type": "code",
      "source": [
        "from sklearn.preprocessing import StandardScaler"
      ],
      "metadata": {
        "id": "0-OySIp_63_A"
      },
      "execution_count": null,
      "outputs": []
    },
    {
      "cell_type": "code",
      "source": [
        "sc = StandardScaler()"
      ],
      "metadata": {
        "id": "_ony-ox27SPa"
      },
      "execution_count": null,
      "outputs": []
    },
    {
      "cell_type": "code",
      "source": [
        "X_train = sc.fit_transform(X_train)\n",
        "X_test = sc.transform(X_test)"
      ],
      "metadata": {
        "id": "RdEDbo987UR4"
      },
      "execution_count": null,
      "outputs": []
    },
    {
      "cell_type": "code",
      "source": [
        "import pandas as pd\n",
        "print(X_train)"
      ],
      "metadata": {
        "colab": {
          "base_uri": "https://localhost:8080/"
        },
        "id": "gn40AX0n7fqC",
        "outputId": "d7b22a08-fb42-4cf3-c0de-1cbd49e1c61f"
      },
      "execution_count": null,
      "outputs": [
        {
          "output_type": "stream",
          "name": "stdout",
          "text": [
            "[[-0.5698444   1.74309049  0.16958176 ...  0.64259497 -1.03227043\n",
            "   1.10643166]\n",
            " [ 1.75486502 -0.57369368 -2.30455945 ...  0.64259497  0.9687384\n",
            "  -0.74866447]\n",
            " [-0.5698444  -0.57369368 -1.19119591 ...  0.64259497 -1.03227043\n",
            "   1.48533467]\n",
            " ...\n",
            " [-0.5698444  -0.57369368  0.9015152  ...  0.64259497 -1.03227043\n",
            "   1.41231994]\n",
            " [-0.5698444   1.74309049 -0.62420521 ...  0.64259497  0.9687384\n",
            "   0.84432121]\n",
            " [ 1.75486502 -0.57369368 -0.28401079 ...  0.64259497 -1.03227043\n",
            "   0.32472465]]\n"
          ]
        }
      ]
    },
    {
      "cell_type": "code",
      "source": [
        "pd.DataFrame(X_train)"
      ],
      "metadata": {
        "colab": {
          "base_uri": "https://localhost:8080/",
          "height": 488
        },
        "id": "ZPyb_eNl7vLB",
        "outputId": "531d4a84-3d38-42cb-8dea-53e1208ce50b"
      },
      "execution_count": null,
      "outputs": [
        {
          "output_type": "execute_result",
          "data": {
            "text/plain": [
              "            0         1         2         3         4         5         6   \\\n",
              "0    -0.569844  1.743090  0.169582 -1.091687 -0.464608  0.006661 -1.215717   \n",
              "1     1.754865 -0.573694 -2.304559  0.916013  0.301026 -1.377440 -0.006312   \n",
              "2    -0.569844 -0.573694 -1.191196 -1.091687 -0.943129 -1.031415  0.579935   \n",
              "3    -0.569844  1.743090  0.035566  0.916013  0.109617  0.006661  0.473128   \n",
              "4    -0.569844  1.743090  2.056114 -1.091687  1.736588  1.044737  0.810193   \n",
              "...        ...       ...       ...       ...       ...       ...       ...   \n",
              "7995  1.754865 -0.573694 -0.582970 -1.091687 -0.656016 -0.339364  0.703104   \n",
              "7996 -0.569844  1.743090  1.478815 -1.091687 -1.613058 -0.339364  0.613060   \n",
              "7997 -0.569844 -0.573694  0.901515  0.916013 -0.368904  0.006661  1.361474   \n",
              "7998 -0.569844  1.743090 -0.624205 -1.091687 -0.081791  1.390762 -1.215717   \n",
              "7999  1.754865 -0.573694 -0.284011 -1.091687  0.875251 -1.377440  0.511364   \n",
              "\n",
              "            7         8         9         10  \n",
              "0     0.809503  0.642595 -1.032270  1.106432  \n",
              "1    -0.921591  0.642595  0.968738 -0.748664  \n",
              "2    -0.921591  0.642595 -1.032270  1.485335  \n",
              "3    -0.921591  0.642595 -1.032270  1.276528  \n",
              "4     0.809503  0.642595  0.968738  0.558378  \n",
              "...        ...       ...       ...       ...  \n",
              "7995  0.809503  0.642595  0.968738  1.091330  \n",
              "7996 -0.921591  0.642595  0.968738  0.131760  \n",
              "7997  0.809503  0.642595 -1.032270  1.412320  \n",
              "7998  0.809503  0.642595  0.968738  0.844321  \n",
              "7999 -0.921591  0.642595 -1.032270  0.324725  \n",
              "\n",
              "[8000 rows x 11 columns]"
            ],
            "text/html": [
              "\n",
              "  <div id=\"df-a42f77c4-b192-47c0-bfc3-bf16ad5e279d\">\n",
              "    <div class=\"colab-df-container\">\n",
              "      <div>\n",
              "<style scoped>\n",
              "    .dataframe tbody tr th:only-of-type {\n",
              "        vertical-align: middle;\n",
              "    }\n",
              "\n",
              "    .dataframe tbody tr th {\n",
              "        vertical-align: top;\n",
              "    }\n",
              "\n",
              "    .dataframe thead th {\n",
              "        text-align: right;\n",
              "    }\n",
              "</style>\n",
              "<table border=\"1\" class=\"dataframe\">\n",
              "  <thead>\n",
              "    <tr style=\"text-align: right;\">\n",
              "      <th></th>\n",
              "      <th>0</th>\n",
              "      <th>1</th>\n",
              "      <th>2</th>\n",
              "      <th>3</th>\n",
              "      <th>4</th>\n",
              "      <th>5</th>\n",
              "      <th>6</th>\n",
              "      <th>7</th>\n",
              "      <th>8</th>\n",
              "      <th>9</th>\n",
              "      <th>10</th>\n",
              "    </tr>\n",
              "  </thead>\n",
              "  <tbody>\n",
              "    <tr>\n",
              "      <th>0</th>\n",
              "      <td>-0.569844</td>\n",
              "      <td>1.743090</td>\n",
              "      <td>0.169582</td>\n",
              "      <td>-1.091687</td>\n",
              "      <td>-0.464608</td>\n",
              "      <td>0.006661</td>\n",
              "      <td>-1.215717</td>\n",
              "      <td>0.809503</td>\n",
              "      <td>0.642595</td>\n",
              "      <td>-1.032270</td>\n",
              "      <td>1.106432</td>\n",
              "    </tr>\n",
              "    <tr>\n",
              "      <th>1</th>\n",
              "      <td>1.754865</td>\n",
              "      <td>-0.573694</td>\n",
              "      <td>-2.304559</td>\n",
              "      <td>0.916013</td>\n",
              "      <td>0.301026</td>\n",
              "      <td>-1.377440</td>\n",
              "      <td>-0.006312</td>\n",
              "      <td>-0.921591</td>\n",
              "      <td>0.642595</td>\n",
              "      <td>0.968738</td>\n",
              "      <td>-0.748664</td>\n",
              "    </tr>\n",
              "    <tr>\n",
              "      <th>2</th>\n",
              "      <td>-0.569844</td>\n",
              "      <td>-0.573694</td>\n",
              "      <td>-1.191196</td>\n",
              "      <td>-1.091687</td>\n",
              "      <td>-0.943129</td>\n",
              "      <td>-1.031415</td>\n",
              "      <td>0.579935</td>\n",
              "      <td>-0.921591</td>\n",
              "      <td>0.642595</td>\n",
              "      <td>-1.032270</td>\n",
              "      <td>1.485335</td>\n",
              "    </tr>\n",
              "    <tr>\n",
              "      <th>3</th>\n",
              "      <td>-0.569844</td>\n",
              "      <td>1.743090</td>\n",
              "      <td>0.035566</td>\n",
              "      <td>0.916013</td>\n",
              "      <td>0.109617</td>\n",
              "      <td>0.006661</td>\n",
              "      <td>0.473128</td>\n",
              "      <td>-0.921591</td>\n",
              "      <td>0.642595</td>\n",
              "      <td>-1.032270</td>\n",
              "      <td>1.276528</td>\n",
              "    </tr>\n",
              "    <tr>\n",
              "      <th>4</th>\n",
              "      <td>-0.569844</td>\n",
              "      <td>1.743090</td>\n",
              "      <td>2.056114</td>\n",
              "      <td>-1.091687</td>\n",
              "      <td>1.736588</td>\n",
              "      <td>1.044737</td>\n",
              "      <td>0.810193</td>\n",
              "      <td>0.809503</td>\n",
              "      <td>0.642595</td>\n",
              "      <td>0.968738</td>\n",
              "      <td>0.558378</td>\n",
              "    </tr>\n",
              "    <tr>\n",
              "      <th>...</th>\n",
              "      <td>...</td>\n",
              "      <td>...</td>\n",
              "      <td>...</td>\n",
              "      <td>...</td>\n",
              "      <td>...</td>\n",
              "      <td>...</td>\n",
              "      <td>...</td>\n",
              "      <td>...</td>\n",
              "      <td>...</td>\n",
              "      <td>...</td>\n",
              "      <td>...</td>\n",
              "    </tr>\n",
              "    <tr>\n",
              "      <th>7995</th>\n",
              "      <td>1.754865</td>\n",
              "      <td>-0.573694</td>\n",
              "      <td>-0.582970</td>\n",
              "      <td>-1.091687</td>\n",
              "      <td>-0.656016</td>\n",
              "      <td>-0.339364</td>\n",
              "      <td>0.703104</td>\n",
              "      <td>0.809503</td>\n",
              "      <td>0.642595</td>\n",
              "      <td>0.968738</td>\n",
              "      <td>1.091330</td>\n",
              "    </tr>\n",
              "    <tr>\n",
              "      <th>7996</th>\n",
              "      <td>-0.569844</td>\n",
              "      <td>1.743090</td>\n",
              "      <td>1.478815</td>\n",
              "      <td>-1.091687</td>\n",
              "      <td>-1.613058</td>\n",
              "      <td>-0.339364</td>\n",
              "      <td>0.613060</td>\n",
              "      <td>-0.921591</td>\n",
              "      <td>0.642595</td>\n",
              "      <td>0.968738</td>\n",
              "      <td>0.131760</td>\n",
              "    </tr>\n",
              "    <tr>\n",
              "      <th>7997</th>\n",
              "      <td>-0.569844</td>\n",
              "      <td>-0.573694</td>\n",
              "      <td>0.901515</td>\n",
              "      <td>0.916013</td>\n",
              "      <td>-0.368904</td>\n",
              "      <td>0.006661</td>\n",
              "      <td>1.361474</td>\n",
              "      <td>0.809503</td>\n",
              "      <td>0.642595</td>\n",
              "      <td>-1.032270</td>\n",
              "      <td>1.412320</td>\n",
              "    </tr>\n",
              "    <tr>\n",
              "      <th>7998</th>\n",
              "      <td>-0.569844</td>\n",
              "      <td>1.743090</td>\n",
              "      <td>-0.624205</td>\n",
              "      <td>-1.091687</td>\n",
              "      <td>-0.081791</td>\n",
              "      <td>1.390762</td>\n",
              "      <td>-1.215717</td>\n",
              "      <td>0.809503</td>\n",
              "      <td>0.642595</td>\n",
              "      <td>0.968738</td>\n",
              "      <td>0.844321</td>\n",
              "    </tr>\n",
              "    <tr>\n",
              "      <th>7999</th>\n",
              "      <td>1.754865</td>\n",
              "      <td>-0.573694</td>\n",
              "      <td>-0.284011</td>\n",
              "      <td>-1.091687</td>\n",
              "      <td>0.875251</td>\n",
              "      <td>-1.377440</td>\n",
              "      <td>0.511364</td>\n",
              "      <td>-0.921591</td>\n",
              "      <td>0.642595</td>\n",
              "      <td>-1.032270</td>\n",
              "      <td>0.324725</td>\n",
              "    </tr>\n",
              "  </tbody>\n",
              "</table>\n",
              "<p>8000 rows × 11 columns</p>\n",
              "</div>\n",
              "      <button class=\"colab-df-convert\" onclick=\"convertToInteractive('df-a42f77c4-b192-47c0-bfc3-bf16ad5e279d')\"\n",
              "              title=\"Convert this dataframe to an interactive table.\"\n",
              "              style=\"display:none;\">\n",
              "        \n",
              "  <svg xmlns=\"http://www.w3.org/2000/svg\" height=\"24px\"viewBox=\"0 0 24 24\"\n",
              "       width=\"24px\">\n",
              "    <path d=\"M0 0h24v24H0V0z\" fill=\"none\"/>\n",
              "    <path d=\"M18.56 5.44l.94 2.06.94-2.06 2.06-.94-2.06-.94-.94-2.06-.94 2.06-2.06.94zm-11 1L8.5 8.5l.94-2.06 2.06-.94-2.06-.94L8.5 2.5l-.94 2.06-2.06.94zm10 10l.94 2.06.94-2.06 2.06-.94-2.06-.94-.94-2.06-.94 2.06-2.06.94z\"/><path d=\"M17.41 7.96l-1.37-1.37c-.4-.4-.92-.59-1.43-.59-.52 0-1.04.2-1.43.59L10.3 9.45l-7.72 7.72c-.78.78-.78 2.05 0 2.83L4 21.41c.39.39.9.59 1.41.59.51 0 1.02-.2 1.41-.59l7.78-7.78 2.81-2.81c.8-.78.8-2.07 0-2.86zM5.41 20L4 18.59l7.72-7.72 1.47 1.35L5.41 20z\"/>\n",
              "  </svg>\n",
              "      </button>\n",
              "      \n",
              "  <style>\n",
              "    .colab-df-container {\n",
              "      display:flex;\n",
              "      flex-wrap:wrap;\n",
              "      gap: 12px;\n",
              "    }\n",
              "\n",
              "    .colab-df-convert {\n",
              "      background-color: #E8F0FE;\n",
              "      border: none;\n",
              "      border-radius: 50%;\n",
              "      cursor: pointer;\n",
              "      display: none;\n",
              "      fill: #1967D2;\n",
              "      height: 32px;\n",
              "      padding: 0 0 0 0;\n",
              "      width: 32px;\n",
              "    }\n",
              "\n",
              "    .colab-df-convert:hover {\n",
              "      background-color: #E2EBFA;\n",
              "      box-shadow: 0px 1px 2px rgba(60, 64, 67, 0.3), 0px 1px 3px 1px rgba(60, 64, 67, 0.15);\n",
              "      fill: #174EA6;\n",
              "    }\n",
              "\n",
              "    [theme=dark] .colab-df-convert {\n",
              "      background-color: #3B4455;\n",
              "      fill: #D2E3FC;\n",
              "    }\n",
              "\n",
              "    [theme=dark] .colab-df-convert:hover {\n",
              "      background-color: #434B5C;\n",
              "      box-shadow: 0px 1px 3px 1px rgba(0, 0, 0, 0.15);\n",
              "      filter: drop-shadow(0px 1px 2px rgba(0, 0, 0, 0.3));\n",
              "      fill: #FFFFFF;\n",
              "    }\n",
              "  </style>\n",
              "\n",
              "      <script>\n",
              "        const buttonEl =\n",
              "          document.querySelector('#df-a42f77c4-b192-47c0-bfc3-bf16ad5e279d button.colab-df-convert');\n",
              "        buttonEl.style.display =\n",
              "          google.colab.kernel.accessAllowed ? 'block' : 'none';\n",
              "\n",
              "        async function convertToInteractive(key) {\n",
              "          const element = document.querySelector('#df-a42f77c4-b192-47c0-bfc3-bf16ad5e279d');\n",
              "          const dataTable =\n",
              "            await google.colab.kernel.invokeFunction('convertToInteractive',\n",
              "                                                     [key], {});\n",
              "          if (!dataTable) return;\n",
              "\n",
              "          const docLinkHtml = 'Like what you see? Visit the ' +\n",
              "            '<a target=\"_blank\" href=https://colab.research.google.com/notebooks/data_table.ipynb>data table notebook</a>'\n",
              "            + ' to learn more about interactive tables.';\n",
              "          element.innerHTML = '';\n",
              "          dataTable['output_type'] = 'display_data';\n",
              "          await google.colab.output.renderOutput(dataTable, element);\n",
              "          const docLink = document.createElement('div');\n",
              "          docLink.innerHTML = docLinkHtml;\n",
              "          element.appendChild(docLink);\n",
              "        }\n",
              "      </script>\n",
              "    </div>\n",
              "  </div>\n",
              "  "
            ]
          },
          "metadata": {},
          "execution_count": 26
        }
      ]
    },
    {
      "cell_type": "markdown",
      "source": [
        "**Building ANN**"
      ],
      "metadata": {
        "id": "Vwp2bMvE74F1"
      }
    },
    {
      "cell_type": "markdown",
      "source": [
        "Keras lib and packages"
      ],
      "metadata": {
        "id": "9ZE9aTnm78gA"
      }
    },
    {
      "cell_type": "markdown",
      "source": [
        "initialize the ANN -> classifier = Sequential()"
      ],
      "metadata": {
        "id": "p2r1gy2_8DbO"
      }
    },
    {
      "cell_type": "code",
      "source": [
        "from keras.models import Sequential"
      ],
      "metadata": {
        "id": "pHWOaYxS8LlK"
      },
      "execution_count": null,
      "outputs": []
    },
    {
      "cell_type": "code",
      "source": [
        "from keras.layers import Dense"
      ],
      "metadata": {
        "id": "SPcm7b168WfT"
      },
      "execution_count": null,
      "outputs": []
    },
    {
      "cell_type": "code",
      "source": [
        "classifier = Sequential()"
      ],
      "metadata": {
        "id": "axB5YuO38Ztg"
      },
      "execution_count": null,
      "outputs": []
    },
    {
      "cell_type": "markdown",
      "source": [
        "-> Adding the imput layer and the first hidden layer\n",
        "\n"
      ],
      "metadata": {
        "id": "ERNCEglq8mLa"
      }
    },
    {
      "cell_type": "code",
      "source": [
        "classifier.add(Dense(units = 6, kernel_initializer = 'uniform', activation = 'relu', input_dim = 11))"
      ],
      "metadata": {
        "id": "6k7lJxiE8gCD"
      },
      "execution_count": null,
      "outputs": []
    },
    {
      "cell_type": "markdown",
      "source": [
        "Arguments -> units-no of last layer neurons, kernel_initializer- how to initilize the weight to layers, activation function, imput_dim- imput neurons - we have 11 independent variables columns"
      ],
      "metadata": {
        "id": "tyHv4epw9OaH"
      }
    },
    {
      "cell_type": "markdown",
      "source": [
        "-> Addition of next hidden layer"
      ],
      "metadata": {
        "id": "6qz32cj890eC"
      }
    },
    {
      "cell_type": "code",
      "source": [
        "classifier.add(Dense(units=6, kernel_initializer = 'uniform', activation = 'relu'))\n",
        "# no need for last input_dim argument, as it takes it form the last layer"
      ],
      "metadata": {
        "id": "fLUgFHuk9N3_"
      },
      "execution_count": null,
      "outputs": []
    },
    {
      "cell_type": "markdown",
      "source": [
        "-> Output Layer"
      ],
      "metadata": {
        "id": "vAikiV52-ZBZ"
      }
    },
    {
      "cell_type": "code",
      "source": [
        "# need only one neuron, in dataset we have dependent variable in binary form, the customer will leave\n",
        "# if it is zero or stay if it is one\n",
        "classifier.add(Dense(units=1, kernel_initializer = 'uniform', activation = 'sigmoid'))"
      ],
      "metadata": {
        "id": "mOfhnkdB-a6E"
      },
      "execution_count": null,
      "outputs": []
    },
    {
      "cell_type": "markdown",
      "source": [
        "**Compilation**"
      ],
      "metadata": {
        "id": "4iThG30k_C5g"
      }
    },
    {
      "cell_type": "code",
      "source": [
        "classifier.compile(optimizer = 'adam', loss='binary_crossentropy', metrics = ['accuracy'] )"
      ],
      "metadata": {
        "id": "GyKNHwAi_AAV"
      },
      "execution_count": null,
      "outputs": []
    },
    {
      "cell_type": "code",
      "source": [],
      "metadata": {
        "id": "d3byjKLDCGAO"
      },
      "execution_count": null,
      "outputs": []
    },
    {
      "cell_type": "markdown",
      "source": [
        "Arguments: set optimization technique, another optimization technique, evaluation our ANN model."
      ],
      "metadata": {
        "id": "C1cJLM-I_ldN"
      }
    },
    {
      "cell_type": "markdown",
      "source": [
        "**Fitting DataSet to out Model**"
      ],
      "metadata": {
        "id": "gX-sQuacAVSN"
      }
    },
    {
      "cell_type": "code",
      "source": [
        "classifier.fit(X_train, y_train, batch_size=10, epochs=100)"
      ],
      "metadata": {
        "colab": {
          "base_uri": "https://localhost:8080/"
        },
        "id": "STcdKjtFAcex",
        "outputId": "62246c38-a7e3-4f34-ada2-dd2786a94120"
      },
      "execution_count": null,
      "outputs": [
        {
          "output_type": "stream",
          "name": "stdout",
          "text": [
            "Epoch 1/100\n",
            "800/800 [==============================] - 1s 2ms/step - loss: 0.4021 - accuracy: 0.8346\n",
            "Epoch 2/100\n",
            "800/800 [==============================] - 1s 2ms/step - loss: 0.4015 - accuracy: 0.8355\n",
            "Epoch 3/100\n",
            "800/800 [==============================] - 1s 2ms/step - loss: 0.4015 - accuracy: 0.8325\n",
            "Epoch 4/100\n",
            "800/800 [==============================] - 1s 2ms/step - loss: 0.4022 - accuracy: 0.8334\n",
            "Epoch 5/100\n",
            "800/800 [==============================] - 1s 2ms/step - loss: 0.4019 - accuracy: 0.8339\n",
            "Epoch 6/100\n",
            "800/800 [==============================] - 1s 2ms/step - loss: 0.4022 - accuracy: 0.8353\n",
            "Epoch 7/100\n",
            "800/800 [==============================] - 1s 2ms/step - loss: 0.4020 - accuracy: 0.8341\n",
            "Epoch 8/100\n",
            "800/800 [==============================] - 1s 2ms/step - loss: 0.4016 - accuracy: 0.8350\n",
            "Epoch 9/100\n",
            "800/800 [==============================] - 1s 2ms/step - loss: 0.4017 - accuracy: 0.8332\n",
            "Epoch 10/100\n",
            "800/800 [==============================] - 1s 2ms/step - loss: 0.4017 - accuracy: 0.8339\n",
            "Epoch 11/100\n",
            "800/800 [==============================] - 1s 2ms/step - loss: 0.4020 - accuracy: 0.8330\n",
            "Epoch 12/100\n",
            "800/800 [==============================] - 1s 2ms/step - loss: 0.4023 - accuracy: 0.8335\n",
            "Epoch 13/100\n",
            "800/800 [==============================] - 1s 2ms/step - loss: 0.4013 - accuracy: 0.8342\n",
            "Epoch 14/100\n",
            "800/800 [==============================] - 1s 2ms/step - loss: 0.4016 - accuracy: 0.8344\n",
            "Epoch 15/100\n",
            "800/800 [==============================] - 1s 2ms/step - loss: 0.4015 - accuracy: 0.8345\n",
            "Epoch 16/100\n",
            "800/800 [==============================] - 1s 2ms/step - loss: 0.4019 - accuracy: 0.8341\n",
            "Epoch 17/100\n",
            "800/800 [==============================] - 1s 2ms/step - loss: 0.4019 - accuracy: 0.8351\n",
            "Epoch 18/100\n",
            "800/800 [==============================] - 1s 2ms/step - loss: 0.4024 - accuracy: 0.8345\n",
            "Epoch 19/100\n",
            "800/800 [==============================] - 1s 2ms/step - loss: 0.4016 - accuracy: 0.8331\n",
            "Epoch 20/100\n",
            "800/800 [==============================] - 1s 2ms/step - loss: 0.4018 - accuracy: 0.8339\n",
            "Epoch 21/100\n",
            "800/800 [==============================] - 1s 2ms/step - loss: 0.4018 - accuracy: 0.8326\n",
            "Epoch 22/100\n",
            "800/800 [==============================] - 1s 2ms/step - loss: 0.4017 - accuracy: 0.8339\n",
            "Epoch 23/100\n",
            "800/800 [==============================] - 1s 2ms/step - loss: 0.4018 - accuracy: 0.8349\n",
            "Epoch 24/100\n",
            "800/800 [==============================] - 1s 2ms/step - loss: 0.4018 - accuracy: 0.8345\n",
            "Epoch 25/100\n",
            "800/800 [==============================] - 1s 2ms/step - loss: 0.4015 - accuracy: 0.8334\n",
            "Epoch 26/100\n",
            "800/800 [==============================] - 1s 2ms/step - loss: 0.4018 - accuracy: 0.8347\n",
            "Epoch 27/100\n",
            "800/800 [==============================] - 1s 2ms/step - loss: 0.4014 - accuracy: 0.8326\n",
            "Epoch 28/100\n",
            "800/800 [==============================] - 1s 2ms/step - loss: 0.4016 - accuracy: 0.8351\n",
            "Epoch 29/100\n",
            "800/800 [==============================] - 1s 2ms/step - loss: 0.4020 - accuracy: 0.8349\n",
            "Epoch 30/100\n",
            "800/800 [==============================] - 1s 2ms/step - loss: 0.4015 - accuracy: 0.8335\n",
            "Epoch 31/100\n",
            "800/800 [==============================] - 1s 2ms/step - loss: 0.4016 - accuracy: 0.8341\n",
            "Epoch 32/100\n",
            "800/800 [==============================] - 2s 3ms/step - loss: 0.4016 - accuracy: 0.8345\n",
            "Epoch 33/100\n",
            "800/800 [==============================] - 2s 2ms/step - loss: 0.4016 - accuracy: 0.8349\n",
            "Epoch 34/100\n",
            "800/800 [==============================] - 1s 2ms/step - loss: 0.4015 - accuracy: 0.8339\n",
            "Epoch 35/100\n",
            "800/800 [==============================] - 2s 2ms/step - loss: 0.4020 - accuracy: 0.8340\n",
            "Epoch 36/100\n",
            "800/800 [==============================] - 2s 3ms/step - loss: 0.4019 - accuracy: 0.8339\n",
            "Epoch 37/100\n",
            "800/800 [==============================] - 1s 2ms/step - loss: 0.4018 - accuracy: 0.8346\n",
            "Epoch 38/100\n",
            "800/800 [==============================] - 2s 3ms/step - loss: 0.4020 - accuracy: 0.8351\n",
            "Epoch 39/100\n",
            "800/800 [==============================] - 2s 2ms/step - loss: 0.4015 - accuracy: 0.8349\n",
            "Epoch 40/100\n",
            "800/800 [==============================] - 2s 2ms/step - loss: 0.4019 - accuracy: 0.8336\n",
            "Epoch 41/100\n",
            "800/800 [==============================] - 2s 2ms/step - loss: 0.4017 - accuracy: 0.8346\n",
            "Epoch 42/100\n",
            "800/800 [==============================] - 2s 2ms/step - loss: 0.4016 - accuracy: 0.8341\n",
            "Epoch 43/100\n",
            "800/800 [==============================] - 2s 2ms/step - loss: 0.4014 - accuracy: 0.8331\n",
            "Epoch 44/100\n",
            "800/800 [==============================] - 2s 2ms/step - loss: 0.4016 - accuracy: 0.8338\n",
            "Epoch 45/100\n",
            "800/800 [==============================] - 2s 3ms/step - loss: 0.4013 - accuracy: 0.8346\n",
            "Epoch 46/100\n",
            "800/800 [==============================] - 1s 2ms/step - loss: 0.4019 - accuracy: 0.8342\n",
            "Epoch 47/100\n",
            "800/800 [==============================] - 1s 2ms/step - loss: 0.4014 - accuracy: 0.8342\n",
            "Epoch 48/100\n",
            "800/800 [==============================] - 1s 2ms/step - loss: 0.4015 - accuracy: 0.8346\n",
            "Epoch 49/100\n",
            "800/800 [==============================] - 1s 2ms/step - loss: 0.4017 - accuracy: 0.8330\n",
            "Epoch 50/100\n",
            "800/800 [==============================] - 2s 3ms/step - loss: 0.4013 - accuracy: 0.8330\n",
            "Epoch 51/100\n",
            "800/800 [==============================] - 2s 3ms/step - loss: 0.4019 - accuracy: 0.8339\n",
            "Epoch 52/100\n",
            "800/800 [==============================] - 2s 3ms/step - loss: 0.4014 - accuracy: 0.8342\n",
            "Epoch 53/100\n",
            "800/800 [==============================] - 2s 2ms/step - loss: 0.4012 - accuracy: 0.8351\n",
            "Epoch 54/100\n",
            "800/800 [==============================] - 2s 3ms/step - loss: 0.4016 - accuracy: 0.8342\n",
            "Epoch 55/100\n",
            "800/800 [==============================] - 3s 3ms/step - loss: 0.4017 - accuracy: 0.8341\n",
            "Epoch 56/100\n",
            "800/800 [==============================] - 2s 3ms/step - loss: 0.4015 - accuracy: 0.8334\n",
            "Epoch 57/100\n",
            "800/800 [==============================] - 2s 3ms/step - loss: 0.4015 - accuracy: 0.8340\n",
            "Epoch 58/100\n",
            "800/800 [==============================] - 2s 3ms/step - loss: 0.4015 - accuracy: 0.8340\n",
            "Epoch 59/100\n",
            "800/800 [==============================] - 2s 2ms/step - loss: 0.4012 - accuracy: 0.8335\n",
            "Epoch 60/100\n",
            "800/800 [==============================] - 2s 2ms/step - loss: 0.4012 - accuracy: 0.8340\n",
            "Epoch 61/100\n",
            "800/800 [==============================] - 2s 2ms/step - loss: 0.4013 - accuracy: 0.8344\n",
            "Epoch 62/100\n",
            "800/800 [==============================] - 3s 4ms/step - loss: 0.4018 - accuracy: 0.8353\n",
            "Epoch 63/100\n",
            "800/800 [==============================] - 2s 3ms/step - loss: 0.4014 - accuracy: 0.8344\n",
            "Epoch 64/100\n",
            "800/800 [==============================] - 2s 2ms/step - loss: 0.4012 - accuracy: 0.8355\n",
            "Epoch 65/100\n",
            "800/800 [==============================] - 1s 2ms/step - loss: 0.4013 - accuracy: 0.8332\n",
            "Epoch 66/100\n",
            "800/800 [==============================] - 1s 2ms/step - loss: 0.4012 - accuracy: 0.8350\n",
            "Epoch 67/100\n",
            "800/800 [==============================] - 1s 2ms/step - loss: 0.4010 - accuracy: 0.8331\n",
            "Epoch 68/100\n",
            "800/800 [==============================] - 1s 2ms/step - loss: 0.4009 - accuracy: 0.8338\n",
            "Epoch 69/100\n",
            "800/800 [==============================] - 1s 2ms/step - loss: 0.4010 - accuracy: 0.8347\n",
            "Epoch 70/100\n",
            "800/800 [==============================] - 1s 2ms/step - loss: 0.4014 - accuracy: 0.8329\n",
            "Epoch 71/100\n",
            "800/800 [==============================] - 1s 2ms/step - loss: 0.4011 - accuracy: 0.8334\n",
            "Epoch 72/100\n",
            "800/800 [==============================] - 1s 2ms/step - loss: 0.4010 - accuracy: 0.8341\n",
            "Epoch 73/100\n",
            "800/800 [==============================] - 1s 2ms/step - loss: 0.4011 - accuracy: 0.8355\n",
            "Epoch 74/100\n",
            "800/800 [==============================] - 1s 2ms/step - loss: 0.4009 - accuracy: 0.8334\n",
            "Epoch 75/100\n",
            "800/800 [==============================] - 1s 2ms/step - loss: 0.4009 - accuracy: 0.8332\n",
            "Epoch 76/100\n",
            "800/800 [==============================] - 1s 2ms/step - loss: 0.4010 - accuracy: 0.8341\n",
            "Epoch 77/100\n",
            "800/800 [==============================] - 1s 2ms/step - loss: 0.4012 - accuracy: 0.8345\n",
            "Epoch 78/100\n",
            "800/800 [==============================] - 1s 2ms/step - loss: 0.4010 - accuracy: 0.8336\n",
            "Epoch 79/100\n",
            "800/800 [==============================] - 1s 2ms/step - loss: 0.4009 - accuracy: 0.8345\n",
            "Epoch 80/100\n",
            "800/800 [==============================] - 1s 2ms/step - loss: 0.4007 - accuracy: 0.8349\n",
            "Epoch 81/100\n",
            "800/800 [==============================] - 1s 2ms/step - loss: 0.4010 - accuracy: 0.8344\n",
            "Epoch 82/100\n",
            "800/800 [==============================] - 1s 2ms/step - loss: 0.4008 - accuracy: 0.8332\n",
            "Epoch 83/100\n",
            "800/800 [==============================] - 1s 2ms/step - loss: 0.4009 - accuracy: 0.8340\n",
            "Epoch 84/100\n",
            "800/800 [==============================] - 1s 2ms/step - loss: 0.4010 - accuracy: 0.8336\n",
            "Epoch 85/100\n",
            "800/800 [==============================] - 1s 2ms/step - loss: 0.4007 - accuracy: 0.8356\n",
            "Epoch 86/100\n",
            "800/800 [==============================] - 1s 2ms/step - loss: 0.4011 - accuracy: 0.8349\n",
            "Epoch 87/100\n",
            "800/800 [==============================] - 1s 2ms/step - loss: 0.4007 - accuracy: 0.8338\n",
            "Epoch 88/100\n",
            "800/800 [==============================] - 1s 2ms/step - loss: 0.4007 - accuracy: 0.8335\n",
            "Epoch 89/100\n",
            "800/800 [==============================] - 1s 2ms/step - loss: 0.4011 - accuracy: 0.8341\n",
            "Epoch 90/100\n",
            "800/800 [==============================] - 1s 2ms/step - loss: 0.4013 - accuracy: 0.8334\n",
            "Epoch 91/100\n",
            "800/800 [==============================] - 1s 2ms/step - loss: 0.4008 - accuracy: 0.8353\n",
            "Epoch 92/100\n",
            "800/800 [==============================] - 1s 2ms/step - loss: 0.4012 - accuracy: 0.8349\n",
            "Epoch 93/100\n",
            "800/800 [==============================] - 1s 2ms/step - loss: 0.4013 - accuracy: 0.8346\n",
            "Epoch 94/100\n",
            "800/800 [==============================] - 1s 2ms/step - loss: 0.4009 - accuracy: 0.8336\n",
            "Epoch 95/100\n",
            "800/800 [==============================] - 1s 2ms/step - loss: 0.4002 - accuracy: 0.8356\n",
            "Epoch 96/100\n",
            "800/800 [==============================] - 1s 2ms/step - loss: 0.4012 - accuracy: 0.8332\n",
            "Epoch 97/100\n",
            "800/800 [==============================] - 1s 2ms/step - loss: 0.4011 - accuracy: 0.8350\n",
            "Epoch 98/100\n",
            "800/800 [==============================] - 1s 2ms/step - loss: 0.4009 - accuracy: 0.8328\n",
            "Epoch 99/100\n",
            "800/800 [==============================] - 1s 2ms/step - loss: 0.4006 - accuracy: 0.8346\n",
            "Epoch 100/100\n",
            "800/800 [==============================] - 1s 2ms/step - loss: 0.4007 - accuracy: 0.8330\n"
          ]
        },
        {
          "output_type": "execute_result",
          "data": {
            "text/plain": [
              "<keras.callbacks.History at 0x7f83bb8444d0>"
            ]
          },
          "metadata": {},
          "execution_count": 56
        }
      ]
    },
    {
      "cell_type": "markdown",
      "source": [
        "As the number of epochs increases the accuracy scores also increases, we need to train the dataset on certain number of epoches to increase its accuracy"
      ],
      "metadata": {
        "id": "xT8L9cjSEQJv"
      }
    },
    {
      "cell_type": "markdown",
      "source": [
        "**Predecting the test set result**"
      ],
      "metadata": {
        "id": "t7aNAzhrE3vD"
      }
    },
    {
      "cell_type": "code",
      "source": [
        "y_pred = classifier.predict(X_test)\n",
        "y_pred = (y_pred>0.5)"
      ],
      "metadata": {
        "id": "3y5XAgwdE_Ex"
      },
      "execution_count": null,
      "outputs": []
    },
    {
      "cell_type": "code",
      "source": [
        "print(y_pred)"
      ],
      "metadata": {
        "colab": {
          "base_uri": "https://localhost:8080/"
        },
        "id": "Jo0ZEGLvFJTL",
        "outputId": "6e844e53-fd20-4c6b-94ad-6d980f8bf09e"
      },
      "execution_count": null,
      "outputs": [
        {
          "output_type": "stream",
          "name": "stdout",
          "text": [
            "[[False]\n",
            " [False]\n",
            " [False]\n",
            " ...\n",
            " [False]\n",
            " [False]\n",
            " [False]]\n"
          ]
        }
      ]
    },
    {
      "cell_type": "code",
      "source": [
        "from sklearn.metrics import confusion_matrix, accuracy_score\n",
        "cn = confusion_matrix(y_test, y_pred)"
      ],
      "metadata": {
        "id": "zdBdQ9LhFcaY"
      },
      "execution_count": null,
      "outputs": []
    },
    {
      "cell_type": "code",
      "source": [
        "print(cn)"
      ],
      "metadata": {
        "colab": {
          "base_uri": "https://localhost:8080/"
        },
        "id": "DSiZKB0rFsqr",
        "outputId": "7f7c59b2-e0e7-4b3f-bfc5-16c1ba79a4c5"
      },
      "execution_count": null,
      "outputs": [
        {
          "output_type": "stream",
          "name": "stdout",
          "text": [
            "[[1552   43]\n",
            " [ 278  127]]\n"
          ]
        }
      ]
    },
    {
      "cell_type": "code",
      "source": [
        "accuracy_score(y_test, y_pred)"
      ],
      "metadata": {
        "colab": {
          "base_uri": "https://localhost:8080/"
        },
        "id": "PiphI8DtFvKC",
        "outputId": "05d52928-7efc-4d58-89cc-2e0c7dadb648"
      },
      "execution_count": null,
      "outputs": [
        {
          "output_type": "execute_result",
          "data": {
            "text/plain": [
              "0.8395"
            ]
          },
          "metadata": {},
          "execution_count": 62
        }
      ]
    }
  ]
}